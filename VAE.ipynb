{
  "nbformat": 4,
  "nbformat_minor": 0,
  "metadata": {
    "colab": {
      "name": "VAE.ipynb",
      "provenance": [],
      "collapsed_sections": []
    },
    "kernelspec": {
      "name": "python3",
      "display_name": "Python 3"
    },
    "accelerator": "GPU"
  },
  "cells": [
    {
      "cell_type": "code",
      "metadata": {
        "id": "ZMdVmnlUGuby",
        "colab_type": "code",
        "outputId": "084ca2bb-fbe2-4e53-b415-6c1cd865dcaf",
        "colab": {
          "base_uri": "https://localhost:8080/",
          "height": 34
        }
      },
      "source": [
        "from keras.layers import Dense, Input\n",
        "from keras.layers import Conv2D, Flatten, Lambda\n",
        "from keras.layers import Reshape, Conv2DTranspose\n",
        "from keras.models import Model\n",
        "from keras.datasets import mnist\n",
        "from keras.losses import mse, binary_crossentropy\n",
        "from keras.initializers import glorot_uniform as xav\n",
        "\n",
        "from keras import backend as K\n",
        "import tensorflow as tf\n",
        "\n",
        "import numpy as np\n",
        "import matplotlib.pyplot as plt\n",
        "import argparse\n",
        "import os\n",
        "\n",
        "import matplotlib.pyplot as plt\n",
        "%matplotlib inline"
      ],
      "execution_count": 1,
      "outputs": [
        {
          "output_type": "stream",
          "text": [
            "Using TensorFlow backend.\n"
          ],
          "name": "stderr"
        }
      ]
    },
    {
      "cell_type": "code",
      "metadata": {
        "id": "EO7o4h8zJNnT",
        "colab_type": "code",
        "outputId": "5568eed8-8343-455a-aa51-ddec8e3f96eb",
        "colab": {
          "base_uri": "https://localhost:8080/",
          "height": 84
        }
      },
      "source": [
        "(x_train, y_train), (x_test, y_test) = mnist.load_data()\n",
        "\n",
        "batch_size = 128\n",
        "input_shape = ( x_train.shape[1:])\n",
        "kernel_size = 3\n",
        "filters = 1\n",
        "latent_dim = 2\n",
        "epochs = 6\n",
        "use_mse = True\n",
        "load_weights = False\n",
        "train_test_split=0.8\n",
        "alpha=0.1\n",
        "\n",
        "x_train = x_train.astype('float32') / 255.0\n",
        "x_test = x_test.astype('float32') / 255.0\n",
        "print(x_train.shape)\n",
        "\n",
        "def break_image(inputs):\n",
        "  res = []\n",
        "  for inp in inputs:\n",
        "    entry = []\n",
        "    for i in range(2, inp.shape[0]-2, 5):\n",
        "      for j in range(2, inp.shape[1]-2, 5):\n",
        "        m1 = np.zeros((5,5))\n",
        "        m2 = np.zeros((5,5))\n",
        "        m3 = np.zeros((5,5))\n",
        "        m1[2][2] = inp[i][j]\n",
        "\n",
        "        m2[1][1] = inp[i-1][j-1]\n",
        "        m2[1][2] = inp[i-1][j]\n",
        "        m2[1][3] = inp[i-1][j+1]\n",
        "        m2[2][1] = inp[i][j-1]\n",
        "        m2[2][3] = inp[i][j+1]\n",
        "        m2[3][1] = inp[i+1][j-1]\n",
        "        m2[3][2] = inp[i+1][j]\n",
        "        m2[3][3] = inp[i+1][j+1]\n",
        "\n",
        "        m3[0][0] = inp[i-2][j-2]\n",
        "        m3[0][1] = inp[i-2][j-1]\n",
        "        m3[0][2] = inp[i-2][j]\n",
        "        m3[0][3] = inp[i-2][j+1]\n",
        "        m3[0][4] = inp[i-2][j+2]\n",
        "        m3[1][0] = inp[i-1][j-2]\n",
        "        m3[1][4] = inp[i-1][j+2]\n",
        "        m3[2][0] = inp[i][j-2]\n",
        "        m3[2][4] = inp[i][j+2]\n",
        "        m3[3][0] = inp[i+1][j-2]\n",
        "        m3[3][4] = inp[i+1][j+2]\n",
        "        m3[4][0] = inp[i+2][j-2]\n",
        "        m3[4][0] = inp[i+2][j-1]\n",
        "        m3[4][0] = inp[i+2][j]\n",
        "        m3[4][0] = inp[i+2][j+1]\n",
        "        m3[4][0] = inp[i+2][j+2]\n",
        "\n",
        "        entry.append(np.array([m1,m2,m3]))\n",
        "    entry = np.reshape(entry, newshape=(3,25,5,5))\n",
        "    entry = np.reshape(entry, newshape=(3,25,25))\n",
        "    res.append(entry)\n",
        "  return np.reshape(res, (3,inputs.shape[0],25,25))\n",
        "\n",
        "# def create_image(inputs):\n",
        "#   res = []\n",
        "#   for inp in inputs:\n",
        "#     inp = np.reshape(inp, (25,3,5,5))\n",
        "#     for temp in inp:\n",
        "#       concat_entry.append(np.add(temp[0], np.add(temp[1], temp[2])))\n",
        "#     entry = np.reshape(np.concatenate(concat_entry), (25,25))\n",
        "#     res.append(entry)\n",
        "#   return np.array(res)\n",
        "\n",
        "test1 = break_image(x_test)\n",
        "print(test1.shape)\n",
        "# test2 = create_image(test1)\n",
        "# print(test2.shape)\n",
        "\n",
        "# plt.imshow(test2[0])"
      ],
      "execution_count": 2,
      "outputs": [
        {
          "output_type": "stream",
          "text": [
            "Downloading data from https://s3.amazonaws.com/img-datasets/mnist.npz\n",
            "11493376/11490434 [==============================] - 1s 0us/step\n",
            "(60000, 28, 28)\n",
            "(3, 10000, 25, 25)\n"
          ],
          "name": "stdout"
        }
      ]
    },
    {
      "cell_type": "code",
      "metadata": {
        "id": "NaS2d-r24bfr",
        "colab_type": "code",
        "colab": {}
      },
      "source": [
        "x_train = break_image(x_train)\n",
        "x_test = break_image(x_test)\n",
        "input_shape = (x_train.shape[2:])"
      ],
      "execution_count": 0,
      "outputs": []
    },
    {
      "cell_type": "code",
      "metadata": {
        "id": "k78tQaC0G743",
        "colab_type": "code",
        "colab": {}
      },
      "source": [
        "def sampling(args):\n",
        "    z_mean, z_log_var = args\n",
        "    batch = K.shape(z_mean)[0]\n",
        "    dim = K.int_shape(z_mean)[1]\n",
        "    # by default, random_normal has mean=0 and std=1.0\n",
        "    epsilon = K.random_normal(shape=(batch, dim))\n",
        "    return z_mean + K.exp(z_log_var) * epsilon"
      ],
      "execution_count": 0,
      "outputs": []
    },
    {
      "cell_type": "code",
      "metadata": {
        "id": "yDReaW8CZTZg",
        "colab_type": "code",
        "colab": {}
      },
      "source": [
        ""
      ],
      "execution_count": 0,
      "outputs": []
    },
    {
      "cell_type": "code",
      "metadata": {
        "id": "YoAt-q_-G_24",
        "colab_type": "code",
        "outputId": "b3ce818d-753e-46b3-9384-e0904801ae45",
        "colab": {
          "base_uri": "https://localhost:8080/",
          "height": 722
        }
      },
      "source": [
        "print(input_shape)\n",
        "xi = Input(shape=input_shape)\n",
        "xj = Input(shape=input_shape)\n",
        "xk = Input(shape=input_shape)\n",
        "\n",
        "encoder_inputs = [xi, xj, xk]\n",
        "'''for i in range(2):\n",
        "    filters *= 2\n",
        "    x = Conv2D(filters=filters,\n",
        "               kernel_size=kernel_size,\n",
        "               activation='relu',\n",
        "               strides=2,\n",
        "               padding='same')(x)'''\n",
        "\n",
        "# shape info needed to build decoder model\n",
        "shape = K.int_shape(xi)\n",
        "\n",
        "\n",
        "# generate latent vector Q(z|X)\n",
        "xi = Flatten()(xi)\n",
        "xj = Flatten()(xj)\n",
        "xk = Flatten()(xk)\n",
        "\n",
        "fc1 = Dense(512, activation='relu', kernel_initializer = xav(1))\n",
        "xi = fc1(xi)\n",
        "xj = fc1(xj)\n",
        "xk = fc1(xk)\n",
        "\n",
        "z_mean = Dense(128, name='z_mean', kernel_initializer = xav(1))\n",
        "z_log_var = Dense(128, name='z_log_var', kernel_initializer = xav(1))\n",
        "\n",
        "xi_mean = z_mean(xi)\n",
        "xi_log_var = z_log_var(xi)\n",
        "xj_mean = z_mean(xj)\n",
        "xj_log_var = z_log_var(xj)\n",
        "xk_mean = z_mean(xk)\n",
        "xk_log_var = z_log_var(xk)\n",
        "\n",
        "# use reparameterization trick to push the sampling out as input\n",
        "# note that \"output_shape\" isn't necessary with the TensorFlow backend\n",
        "zi = Lambda(sampling, output_shape=(latent_dim,))([xi_mean, xi_log_var])\n",
        "zj = Lambda(sampling, output_shape=(latent_dim,))([xj_mean, xj_log_var])\n",
        "zk = Lambda(sampling, output_shape=(latent_dim,))([xk_mean, xk_log_var])\n",
        "\n",
        "\n",
        "encoder_output = [zi, xi_mean, xi_log_var, zj, xj_mean, xj_log_var, zk, xk_mean, xk_log_var]\n",
        "\n",
        "# instantiate encoder model\n",
        "encoder = Model(encoder_inputs, encoder_output, name='encoder')\n",
        "encoder.summary()"
      ],
      "execution_count": 5,
      "outputs": [
        {
          "output_type": "stream",
          "text": [
            "(25, 25)\n",
            "Model: \"encoder\"\n",
            "__________________________________________________________________________________________________\n",
            "Layer (type)                    Output Shape         Param #     Connected to                     \n",
            "==================================================================================================\n",
            "input_1 (InputLayer)            (None, 25, 25)       0                                            \n",
            "__________________________________________________________________________________________________\n",
            "input_2 (InputLayer)            (None, 25, 25)       0                                            \n",
            "__________________________________________________________________________________________________\n",
            "input_3 (InputLayer)            (None, 25, 25)       0                                            \n",
            "__________________________________________________________________________________________________\n",
            "flatten_1 (Flatten)             (None, 625)          0           input_1[0][0]                    \n",
            "__________________________________________________________________________________________________\n",
            "flatten_2 (Flatten)             (None, 625)          0           input_2[0][0]                    \n",
            "__________________________________________________________________________________________________\n",
            "flatten_3 (Flatten)             (None, 625)          0           input_3[0][0]                    \n",
            "__________________________________________________________________________________________________\n",
            "dense_1 (Dense)                 (None, 512)          320512      flatten_1[0][0]                  \n",
            "                                                                 flatten_2[0][0]                  \n",
            "                                                                 flatten_3[0][0]                  \n",
            "__________________________________________________________________________________________________\n",
            "z_mean (Dense)                  (None, 128)          65664       dense_1[0][0]                    \n",
            "                                                                 dense_1[1][0]                    \n",
            "                                                                 dense_1[2][0]                    \n",
            "__________________________________________________________________________________________________\n",
            "z_log_var (Dense)               (None, 128)          65664       dense_1[0][0]                    \n",
            "                                                                 dense_1[1][0]                    \n",
            "                                                                 dense_1[2][0]                    \n",
            "__________________________________________________________________________________________________\n",
            "lambda_1 (Lambda)               (None, 2)            0           z_mean[0][0]                     \n",
            "                                                                 z_log_var[0][0]                  \n",
            "__________________________________________________________________________________________________\n",
            "lambda_2 (Lambda)               (None, 2)            0           z_mean[1][0]                     \n",
            "                                                                 z_log_var[1][0]                  \n",
            "__________________________________________________________________________________________________\n",
            "lambda_3 (Lambda)               (None, 2)            0           z_mean[2][0]                     \n",
            "                                                                 z_log_var[2][0]                  \n",
            "==================================================================================================\n",
            "Total params: 451,840\n",
            "Trainable params: 451,840\n",
            "Non-trainable params: 0\n",
            "__________________________________________________________________________________________________\n"
          ],
          "name": "stdout"
        }
      ]
    },
    {
      "cell_type": "code",
      "metadata": {
        "id": "BR0m0naxHEOf",
        "colab_type": "code",
        "colab": {
          "base_uri": "https://localhost:8080/",
          "height": 454
        },
        "outputId": "c2715f54-6afd-450d-c3ce-bafad4533a1b"
      },
      "source": [
        "zi_input = Input(shape=[128])\n",
        "zj_input = Input(shape=[128])\n",
        "zk_input = Input(shape=[128])\n",
        "\n",
        "# zi_input = tf.expand_dims(zi_input, 0)\n",
        "# zj_input = tf.expand_dims(zj_input, 0)\n",
        "# zk_input = tf.expand_dims(zk_input, 0)\n",
        "\n",
        "latent_input=[zi_input,zj_input,zk_input]\n",
        "\n",
        "fc1 = Dense(512, activation = 'relu', kernel_initializer = xav(1))\n",
        "fc2 = Dense(shape[1] * shape[2], activation = 'sigmoid', kernel_initializer = xav(1))\n",
        "reshape = Reshape((shape[1], shape[2]))\n",
        "\n",
        "zi_outputs = reshape(fc2(fc1(zi_input)))\n",
        "zj_outputs = reshape(fc2(fc1(zj_input)))\n",
        "zk_outputs = reshape(fc2(fc1(zk_input)))\n",
        "\n",
        "# use Conv2DTranspose to reverse the conv layers from the encoder\n",
        "\n",
        "'''\n",
        "l1 = Conv2DTranspose(filters=filters,\n",
        "                        kernel_size=kernel_size,\n",
        "                        activation='relu',\n",
        "                        strides=2,\n",
        "                        padding='same')\n",
        "\n",
        "l2 = Conv2DTranspose(filters=1,\n",
        "                              kernel_size=kernel_size,\n",
        "                              activation='sigmoid',\n",
        "                              padding='same')\n",
        "\n",
        "xi = fc2(zi_input)\n",
        "xj = fc2(zj_input)\n",
        "xk = fc2(zk_input)\n",
        "\n",
        "\n",
        "for i in range(2):\n",
        "    xi = l1(xi)\n",
        "    filters //= 2\n",
        "\n",
        "zi_outputs = l2(xi)\n",
        "\n",
        "for i in range(2):\n",
        "    xj = l1(xj)\n",
        "    filters //= 2\n",
        "\n",
        "zj_outputs = l2(xj)\n",
        "    \n",
        "for i in range(2):\n",
        "    xk = l1(xk)\n",
        "    filters //= 2\n",
        "\n",
        "zk_outputs = l2(xk)\n",
        "\n",
        "'''\n",
        "\n",
        "outputs=[zi_outputs,zj_outputs,zk_outputs]\n",
        "\n",
        "\n",
        "# instantiate decoder model\n",
        "decoder = Model(latent_input,outputs, name='decoder')\n",
        "decoder.summary()"
      ],
      "execution_count": 6,
      "outputs": [
        {
          "output_type": "stream",
          "text": [
            "Model: \"decoder\"\n",
            "__________________________________________________________________________________________________\n",
            "Layer (type)                    Output Shape         Param #     Connected to                     \n",
            "==================================================================================================\n",
            "input_4 (InputLayer)            (None, 128)          0                                            \n",
            "__________________________________________________________________________________________________\n",
            "input_5 (InputLayer)            (None, 128)          0                                            \n",
            "__________________________________________________________________________________________________\n",
            "input_6 (InputLayer)            (None, 128)          0                                            \n",
            "__________________________________________________________________________________________________\n",
            "dense_2 (Dense)                 (None, 512)          66048       input_4[0][0]                    \n",
            "                                                                 input_5[0][0]                    \n",
            "                                                                 input_6[0][0]                    \n",
            "__________________________________________________________________________________________________\n",
            "dense_3 (Dense)                 (None, 625)          320625      dense_2[0][0]                    \n",
            "                                                                 dense_2[1][0]                    \n",
            "                                                                 dense_2[2][0]                    \n",
            "__________________________________________________________________________________________________\n",
            "reshape_1 (Reshape)             (None, 25, 25)       0           dense_3[0][0]                    \n",
            "                                                                 dense_3[1][0]                    \n",
            "                                                                 dense_3[2][0]                    \n",
            "==================================================================================================\n",
            "Total params: 386,673\n",
            "Trainable params: 386,673\n",
            "Non-trainable params: 0\n",
            "__________________________________________________________________________________________________\n"
          ],
          "name": "stdout"
        }
      ]
    },
    {
      "cell_type": "code",
      "metadata": {
        "id": "-UaerHPqHTaa",
        "colab_type": "code",
        "colab": {}
      },
      "source": [
        "inputs = encoder_inputs\n",
        "outputs = decoder([encoder(inputs)[0], encoder(inputs)[3], encoder(inputs)[6]])\n",
        "vae = Model(inputs, outputs, name='vae')\n",
        "outputs = tf.concat(values = outputs, axis = 0)"
      ],
      "execution_count": 0,
      "outputs": []
    },
    {
      "cell_type": "code",
      "metadata": {
        "id": "rmkfOLrdHZyV",
        "colab_type": "code",
        "colab": {}
      },
      "source": [
        "from keras import backend\n",
        "\n",
        "def func1(x, g_x, size = input_shape[1]):\n",
        "    funq = K.zeros(x.shape)\n",
        "    for i in range(size):\n",
        "        funq = K.add(funq, K.square(K.multiply(x, (x-g_x))))\n",
        "    \n",
        "def l2(x, g_x, size = input_shape[1]):\n",
        "    sum = K.zeros(x.shape) \n",
        "    for i in range(size):\n",
        "        sum = K.add(sum, funq1(x, g_x, size))\n",
        "    return K.min(sum/K.square(size))\n",
        "\n",
        "def W2(mean1, var1, mean2, var2):\n",
        "    return K.square((mean1-mean2)) + K.square((K.sqrt(var1)-K.sqrt(var2)))\n",
        "\n",
        "def ranking_loss(encoder_outputs):\n",
        "    _, m1, v1, __, m2, v2, _, m3, v3 = encoder_outputs\n",
        "    return K.square(W2(m1,v1,m2,v2)) + K.exp(-1*W2(m1,v1,m3,v3))\n",
        "\n",
        "def vae_loss(x = K.flatten(inputs), x_decoded_mean = K.flatten(outputs)):\n",
        "    xent_loss = input_shape * metrics.binary_crossentropy(x, x_decoded_mean)\n",
        "    kl_loss = - 0.5 * K.sum(1 + z_log_var - K.square(z_mean) - K.exp(z_log_var), axis=-1)\n",
        "    vae_loss = K.mean(xent_loss + kl_loss)\n",
        "    return vae_loss\n",
        "\n",
        "def kullback_leibler_divergence(y_true, y_pred):\n",
        "    y_true = K.clip(y_true, K.epsilon(), 1)\n",
        "    y_pred = K.clip(y_pred, K.epsilon(), 1)\n",
        "    if y_true > y_pred:\n",
        "      return K.sum(y_true * K.log(y_true / y_pred), axis=-1)\n",
        "    return K.sum(y_true * K.log(y_pred / y_true), axis=-1)\n",
        "\n",
        "def vae_loss(y_true = encoder_inputs, y_pred = outputs):\n",
        "  w_loss = K.mean(y_true * y_pred)\n",
        "  return ranking_loss(encoder_output) + alpha*w_loss\n",
        "\n",
        "#vae.add_loss(losses = kullback_leibler_divergence)\n",
        "# def loss()"
      ],
      "execution_count": 0,
      "outputs": []
    },
    {
      "cell_type": "code",
      "metadata": {
        "id": "UFy4q3nZHuit",
        "colab_type": "code",
        "outputId": "22143ea0-d410-499a-ca77-542de24450ed",
        "colab": {
          "base_uri": "https://localhost:8080/",
          "height": 386
        }
      },
      "source": [
        "from keras import optimizers\n",
        "from keras import metrics\n",
        "import tensorflow as tf\n",
        "from tensorflow.keras.losses import KLDivergence\n",
        "adam=optimizers.Adam(lr = 0.001, beta_1=0.9, beta_2=0.999, amsgrad=False)\n",
        "rmsprop=optimizers.RMSprop(lr=.01, rho=0.9)\n",
        "vae.compile(optimizer=adam, loss=vae_loss, metrics=[metrics.AUC()])\n",
        "vae.summary()"
      ],
      "execution_count": 9,
      "outputs": [
        {
          "output_type": "stream",
          "text": [
            "Model: \"vae\"\n",
            "__________________________________________________________________________________________________\n",
            "Layer (type)                    Output Shape         Param #     Connected to                     \n",
            "==================================================================================================\n",
            "input_1 (InputLayer)            (None, 25, 25)       0                                            \n",
            "__________________________________________________________________________________________________\n",
            "input_2 (InputLayer)            (None, 25, 25)       0                                            \n",
            "__________________________________________________________________________________________________\n",
            "input_3 (InputLayer)            (None, 25, 25)       0                                            \n",
            "__________________________________________________________________________________________________\n",
            "encoder (Model)                 [(None, 2), (None, 1 451840      input_1[0][0]                    \n",
            "                                                                 input_2[0][0]                    \n",
            "                                                                 input_3[0][0]                    \n",
            "__________________________________________________________________________________________________\n",
            "decoder (Model)                 [(None, 25, 25), (No 386673      encoder[3][0]                    \n",
            "                                                                 encoder[3][3]                    \n",
            "                                                                 encoder[3][6]                    \n",
            "==================================================================================================\n",
            "Total params: 838,513\n",
            "Trainable params: 838,513\n",
            "Non-trainable params: 0\n",
            "__________________________________________________________________________________________________\n"
          ],
          "name": "stdout"
        }
      ]
    },
    {
      "cell_type": "code",
      "metadata": {
        "id": "0uJmcJnEH1DH",
        "colab_type": "code",
        "colab": {
          "base_uri": "https://localhost:8080/",
          "height": 255
        },
        "outputId": "bc01b38f-6414-43d8-fe71-6a4a054e9a88"
      },
      "source": [
        "if load_weights:\n",
        "    vae = vae.load_weights(args.weights)\n",
        "else:\n",
        "    # train the autoencoder\n",
        "    loss = vae.fit(list(x_train),list(x_train),epochs=epochs,batch_size=batch_size,validation_data=(list(x_test),list(x_test)))\n",
        "    vae.save_weights('vae_cnn_mnist.h5')"
      ],
      "execution_count": 15,
      "outputs": [
        {
          "output_type": "stream",
          "text": [
            "Train on 60000 samples, validate on 10000 samples\n",
            "Epoch 1/6\n",
            "60000/60000 [==============================] - 14s 237us/step - loss: 2.7087 - decoder_loss: 0.9029 - decoder_auc_1: 0.2803 - decoder_auc_1_1: 0.2801 - decoder_auc_1_2: 0.2801 - val_loss: 2.7422 - val_decoder_loss: 0.9141 - val_decoder_auc_1: 0.3062 - val_decoder_auc_1_1: 0.3065 - val_decoder_auc_1_2: 0.3046\n",
            "Epoch 2/6\n",
            "60000/60000 [==============================] - 12s 201us/step - loss: 2.6852 - decoder_loss: 0.8951 - decoder_auc_1: 0.3214 - decoder_auc_1_1: 0.3217 - decoder_auc_1_2: 0.3215 - val_loss: 2.7617 - val_decoder_loss: 0.9206 - val_decoder_auc_1: 0.3300 - val_decoder_auc_1_1: 0.3304 - val_decoder_auc_1_2: 0.3297\n",
            "Epoch 3/6\n",
            "60000/60000 [==============================] - 12s 200us/step - loss: 2.6735 - decoder_loss: 0.8912 - decoder_auc_1: 0.3362 - decoder_auc_1_1: 0.3362 - decoder_auc_1_2: 0.3362 - val_loss: 2.7320 - val_decoder_loss: 0.9108 - val_decoder_auc_1: 0.3410 - val_decoder_auc_1_1: 0.3408 - val_decoder_auc_1_2: 0.3405\n",
            "Epoch 4/6\n",
            "60000/60000 [==============================] - 12s 202us/step - loss: 2.6634 - decoder_loss: 0.8878 - decoder_auc_1: 0.3433 - decoder_auc_1_1: 0.3434 - decoder_auc_1_2: 0.3434 - val_loss: 2.7448 - val_decoder_loss: 0.9153 - val_decoder_auc_1: 0.3456 - val_decoder_auc_1_1: 0.3455 - val_decoder_auc_1_2: 0.3453\n",
            "Epoch 5/6\n",
            "60000/60000 [==============================] - 12s 201us/step - loss: 2.6554 - decoder_loss: 0.8851 - decoder_auc_1: 0.3479 - decoder_auc_1_1: 0.3480 - decoder_auc_1_2: 0.3479 - val_loss: 2.7556 - val_decoder_loss: 0.9189 - val_decoder_auc_1: 0.3503 - val_decoder_auc_1_1: 0.3503 - val_decoder_auc_1_2: 0.3496\n",
            "Epoch 6/6\n",
            "60000/60000 [==============================] - 12s 201us/step - loss: 2.6459 - decoder_loss: 0.8820 - decoder_auc_1: 0.3517 - decoder_auc_1_1: 0.3517 - decoder_auc_1_2: 0.3516 - val_loss: 2.7272 - val_decoder_loss: 0.9096 - val_decoder_auc_1: 0.3528 - val_decoder_auc_1_1: 0.3528 - val_decoder_auc_1_2: 0.3525\n"
          ],
          "name": "stdout"
        }
      ]
    },
    {
      "cell_type": "code",
      "metadata": {
        "id": "qjnwphVjH9Ff",
        "colab_type": "code",
        "colab": {}
      },
      "source": [
        ""
      ],
      "execution_count": 0,
      "outputs": []
    },
    {
      "cell_type": "code",
      "metadata": {
        "id": "88HfbES88Tyq",
        "colab_type": "code",
        "colab": {}
      },
      "source": [
        ""
      ],
      "execution_count": 0,
      "outputs": []
    }
  ]
}